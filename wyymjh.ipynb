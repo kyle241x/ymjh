{
 "cells": [
  {
   "cell_type": "code",
   "execution_count": 213,
   "metadata": {},
   "outputs": [],
   "source": [
    "import numpy as np"
   ]
  },
  {
   "cell_type": "code",
   "execution_count": 214,
   "metadata": {},
   "outputs": [
    {
     "data": {
      "text/plain": [
       "30"
      ]
     },
     "execution_count": 214,
     "metadata": {},
     "output_type": "execute_result"
    }
   ],
   "source": [
    "list_daHao = [10,45,22,64,27,8,85,80,50,22,3,70,76,47,70,10,13,84,87,5,77,11,95,21,15,92,82,18,27,1]\n",
    "len(list_daHao)"
   ]
  },
  {
   "cell_type": "code",
   "execution_count": 215,
   "metadata": {},
   "outputs": [
    {
     "data": {
      "text/plain": [
       "30"
      ]
     },
     "execution_count": 215,
     "metadata": {},
     "output_type": "execute_result"
    }
   ],
   "source": [
    "list_xiaoHao = [1,46,12,12,94,99,43,64,96,25,51,79,12,44,76,54,81,22,80,28,55,72,93,89,36,47,58,91,13,78]\n",
    "len(list_xiaoHao)"
   ]
  },
  {
   "cell_type": "code",
   "execution_count": 263,
   "metadata": {},
   "outputs": [],
   "source": [
    "list_2 = []\n",
    "num_element = 10\n",
    "\n",
    "for i in range(100):\n",
    "    sum = 0\n",
    "    for j in range(num_element):\n",
    "        n = np.random.randint(low = 0,high = 30)\n",
    "        sum += list_xiaoHao[n]\n",
    "    mean = sum/num_element\n",
    "    list_2.append(mean)\n",
    "    \n",
    "\n",
    "vector_xiaohao = np.asarray(list_2)\n",
    "\n",
    "\n",
    "list_1 = []\n",
    "for i in range(100):\n",
    "    sum = 0\n",
    "    for j in range(num_element):\n",
    "        n = np.random.randint(low = 0,high = 30)\n",
    "        sum += list_daHao[n]\n",
    "    mean = sum/num_element\n",
    "    list_1.append(mean)\n",
    "vector_Dahao = np.asarray(list_1)\n"
   ]
  },
  {
   "cell_type": "code",
   "execution_count": 264,
   "metadata": {},
   "outputs": [
    {
     "name": "stdout",
     "output_type": "stream",
     "text": [
      "大号的roll点平均值为43.868000 标准差为10.429131 \n"
     ]
    }
   ],
   "source": [
    "mean_Dahao = np.mean(vector_Dahao)\n",
    "std_Dahao = np.std(vector_Dahao)\n",
    "\n",
    "print(\"大号的roll点平均值为%f 标准差为%f \" %(mean_Dahao,std_Dahao))"
   ]
  },
  {
   "cell_type": "code",
   "execution_count": 265,
   "metadata": {},
   "outputs": [
    {
     "name": "stdout",
     "output_type": "stream",
     "text": [
      "小号的roll点平均值为55.342000 标准差为10.172415 \n"
     ]
    }
   ],
   "source": [
    "mean_xiaohao = np.mean(vector_xiaohao)\n",
    "std_Xiaohao = np.std(vector_xiaohao)\n",
    "print(\"小号的roll点平均值为%f 标准差为%f \" %(mean_xiaohao,std_Xiaohao))"
   ]
  },
  {
   "cell_type": "code",
   "execution_count": 266,
   "metadata": {},
   "outputs": [],
   "source": [
    "import matplotlib.pyplot as plt"
   ]
  },
  {
   "cell_type": "code",
   "execution_count": 267,
   "metadata": {},
   "outputs": [
    {
     "name": "stdout",
     "output_type": "stream",
     "text": [
      "拒绝原假设的犯错概率为0.000081\n"
     ]
    }
   ],
   "source": [
    "from scipy import stats\n",
    "\n",
    "nobs1 = 30\n",
    "nobs2 = 30\n",
    "\n",
    "modified_std1 = np.sqrt(np.float32(nobs1)/np.float32(nobs1-1)) * std_Dahao\n",
    "modified_std2 = np.sqrt(np.float32(nobs2)/np.float32(nobs2-1)) * std_Xiaohao\n",
    "\n",
    "(statistic, pvalue) = stats.ttest_ind_from_stats(mean1=mean_Dahao, std1=modified_std1, nobs1=30, mean2=mean_xiaohao, std2=modified_std2, nobs2=30)\n",
    "\n",
    "print (\"拒绝原假设的犯错概率为%f\"% pvalue)"
   ]
  },
  {
   "cell_type": "code",
   "execution_count": 268,
   "metadata": {},
   "outputs": [
    {
     "data": {
      "text/plain": [
       "(array([ 3.,  3.,  8., 14., 15., 13., 24.,  8.,  8.,  4.]),\n",
       " array([30.5, 35.2, 39.9, 44.6, 49.3, 54. , 58.7, 63.4, 68.1, 72.8, 77.5]),\n",
       " <a list of 10 Patch objects>)"
      ]
     },
     "execution_count": 268,
     "metadata": {},
     "output_type": "execute_result"
    },
    {
     "data": {
      "image/png": "[encoded data removed]",
      "text/plain": [
       "<Figure size 720x216 with 2 Axes>"
      ]
     },
     "metadata": {
      "needs_background": "light"
     },
     "output_type": "display_data"
    }
   ],
   "source": [
    "from matplotlib.font_manager import FontProperties\n",
    "def getChineseFont():  \n",
    "    return FontProperties(fname='/System/Library/Fonts/PingFang.ttc',size=15)  \n",
    "\n",
    "plt.figure(figsize=(10,3))\n",
    "\n",
    "plt.subplot(1,2,1)\n",
    "plt.title(\"大号的roll点分布\",fontproperties=getChineseFont())\n",
    "plt.hist(vector_Dahao,bins = 10,color='black')\n",
    "\n",
    "plt.subplot(1,2,2)\n",
    "plt.title(\"小号的roll点分布\", fontproperties=getChineseFont())\n",
    "plt.hist(vector_xiaohao,bins = 10,color='r')"
   ]
  },
  {
   "cell_type": "code",
   "execution_count": 269,
   "metadata": {},
   "outputs": [],
   "source": [
    "label_0 = np.zeros(100)\n",
    "matrix_Dahao = np.vstack((vector_Dahao,label_0)).T\n",
    "label_1 = np.ones(100)\n",
    "matrix_xiaoHao = np.vstack((vector_xiaohao,label_1)).T\n",
    "\n",
    "all_data  = np.vstack((matrix_Dahao,matrix_xiaoHao))"
   ]
  },
  {
   "cell_type": "code",
   "execution_count": 270,
   "metadata": {},
   "outputs": [
    {
     "data": {
      "image/png": "[encoded data removed]",
      "text/plain": [
       "<Figure size 432x288 with 1 Axes>"
      ]
     },
     "metadata": {
      "needs_background": "light"
     },
     "output_type": "display_data"
    }
   ],
   "source": [
    "plt.scatter(all_data[:,1],all_data[:,0]);"
   ]
  },
  {
   "cell_type": "code",
   "execution_count": 285,
   "metadata": {},
   "outputs": [
    {
     "name": "stdout",
     "output_type": "stream",
     "text": [
      "预测正确率为:72%\n"
     ]
    }
   ],
   "source": [
    "from sklearn.mixture import GaussianMixture as GMM\n",
    "gmm = GMM(n_components=2).fit(all_data[:,0].reshape(-1, 1))\n",
    "labels = gmm.predict(all_data[:,0].reshape(-1, 1))\n",
    "not_equal = labels[labels!=all_data[:,1]]\n",
    "print(\"预测正确率为:%d\"%((1-len(not_equal)/200)*100) +\"%\")"
   ]
  }
 ],
 "metadata": {
  "kernelspec": {
   "display_name": "Python 3",
   "language": "python",
   "name": "python3"
  },
  "language_info": {
   "codemirror_mode": {
    "name": "ipython",
    "version": 3
   },
   "file_extension": ".py",
   "mimetype": "text/x-python",
   "name": "python",
   "nbconvert_exporter": "python",
   "pygments_lexer": "ipython3",
   "version": "3.7.4"
  }
 },
 "nbformat": 4,
 "nbformat_minor": 4
}
